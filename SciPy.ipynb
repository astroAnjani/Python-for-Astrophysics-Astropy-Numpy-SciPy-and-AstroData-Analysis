{
 "cells": [
  {
   "cell_type": "markdown",
   "id": "b60812fa-4a07-4b90-bfdc-5d4afda4b58c",
   "metadata": {},
   "source": [
    "## SciPy (Scientific Python) contains many useful functions that will be useful by scientists. most notable parameter Optimization, integration, interpolation, and signal processing.\n",
    "#### Interpolation of Data"
   ]
  },
  {
   "cell_type": "code",
   "execution_count": null,
   "id": "d0286d1d-0391-4aef-b3b7-709dbfecd431",
   "metadata": {},
   "outputs": [],
   "source": [
    "x = np.linspace(0, 10, 10)\n",
    "y = x**2 * np.sin(x)\n",
    "plt.scatter(x,y)\n",
    "plt.show()\n",
    "from scipy.interpolate import interp1d"
   ]
  },
  {
   "cell_type": "code",
   "execution_count": null,
   "id": "90c3df26-c0b6-456a-b2b1-9ad69cacb439",
   "metadata": {},
   "outputs": [],
   "source": [
    "f = interp1d(x, y, kind='cubic')#GIVES A CUBIC FUNCTION which goes through each point\n",
    "x_f = np.linspace(0, 10, 100)\n",
    "y_f = f(x_f)\n",
    "plt.plot(x_f, y_f,ls=\"--\",c=\"Black\")\n",
    "plt.scatter(x, y)\n",
    "plt.show()"
   ]
  },
  {
   "cell_type": "markdown",
   "id": "6902edc5-0e7d-480a-ba29-fcbd3f5026a5",
   "metadata": {},
   "source": [
    "### Curve Fitting"
   ]
  },
  {
   "cell_type": "code",
   "execution_count": null,
   "id": "a5764793-456c-419a-81f4-bc0da6c5496f",
   "metadata": {},
   "outputs": [],
   "source": [
    "x_data = np.linspace(0, 10, 10)\n",
    "y_data = 3*x_data**2 + 2+np.random.normal(10)*0.1\n",
    "plt.scatter(x_data, y_data); plt.show()"
   ]
  },
  {
   "cell_type": "code",
   "execution_count": null,
   "id": "abfa5afd-2b43-458c-836c-64370842f3bc",
   "metadata": {},
   "outputs": [],
   "source": [
    "from scipy.optimize import curve_fit\n",
    "\n",
    "def func(x, a, b):#you can use any function\n",
    "    return a*x**2 + b\n",
    "popt, pcov = curve_fit(func, x_data, y_data, p0=(1,1))\n",
    "print(popt)#first element is a's value, 2nd is b's value\n",
    "\n",
    "plt.scatter(x_data, y_data)\n",
    "plt.plot(x_data,popt[0]*x_data**2 + popt[1],'--', color = 'red')"
   ]
  },
  {
   "cell_type": "code",
   "execution_count": null,
   "id": "039d356a-2d12-4549-bb90-d058acd9d9da",
   "metadata": {},
   "outputs": [],
   "source": [
    "t_data = np.array([ 0.   ,  0.34482759,  0.68965517,  1.03448276,  1.37931034,\n",
    "        1.72413793,  2.06896552,  2.4137931 ,  2.75862069,  3.10344828,\n",
    "        3.44827586,  3.79310345,  4.13793103,  4.48275862,  4.82758621,\n",
    "        5.17241379,  5.51724138,  5.86206897,  6.20689655,  6.55172414,\n",
    "        6.89655172,  7.24137931,  7.5862069 ,  7.93103448,  8.27586207,\n",
    "        8.62068966,  8.96551724,  9.31034483,  9.65517241, 10.        ])\n",
    "y_data = np.array([ 4.3303953 ,  1.61137995, -2.15418696, -3.90137249, -1.67259042,\n",
    "        2.16884383,  3.86635998,  1.85194506, -1.8489224 , -3.96560495,\n",
    "       -2.13385255,  1.59425817,  4.06145238,  1.89300594, -1.76870297,\n",
    "       -4.26791226, -2.46874133,  1.37019912,  4.24945607,  2.27038039,\n",
    "       -1.50299303, -3.46774049, -2.50845488,  1.20022052,  3.81633703,\n",
    "        2.91511556, -1.24569189, -3.72716214, -2.54549857,  0.87262548])"
   ]
  },
  {
   "cell_type": "code",
   "execution_count": null,
   "id": "c8103c87-6341-4f3b-b0a3-e09c843e495e",
   "metadata": {},
   "outputs": [],
   "source": [
    "plt.plot(t_data,y_data,'o--',c=\"Red\")\n",
    "plt.show()"
   ]
  },
  {
   "cell_type": "markdown",
   "id": "c230f6e9-57b3-43d8-91ba-748400654714",
   "metadata": {},
   "source": [
    "##### We can see and give some guess values.\n",
    "\n",
    "#### A = 4, ɸ = 0 and T ≈ 2"
   ]
  },
  {
   "cell_type": "code",
   "execution_count": null,
   "id": "71a30afc-7211-4e76-b078-9c33526f9851",
   "metadata": {},
   "outputs": [],
   "source": [
    "from scipy.optimize import curve_fit\n",
    "\n",
    "def func(x, A, w, phi):\n",
    "    return A*np.cos(w*x+phi)\n",
    "\n",
    "popt, pcov = curve_fit(func, t_data, y_data, p0=(4, np.pi, 0))\n",
    "popt"
   ]
  },
  {
   "cell_type": "code",
   "execution_count": null,
   "id": "7e22bb7e-46c4-4391-a108-3fb608df33e0",
   "metadata": {},
   "outputs": [],
   "source": [
    "A, w, phi = popt\n",
    "t = np.linspace(0, 10, 100)\n",
    "y = func(t, A, w, phi)\n",
    "plt.scatter(t_data,y_data)\n",
    "plt.plot(t,y,color=\"Red\",ls=\"--\")\n",
    "plt.show()"
   ]
  },
  {
   "cell_type": "markdown",
   "id": "8464290f-24d9-4b23-aae1-d7bd6c0e9442",
   "metadata": {},
   "source": [
    "### Special Functions\n",
    "##### In physics, we many times need some special functions like bessel function, Legendre and many more. This things can also be accessed using scipy."
   ]
  },
  {
   "cell_type": "code",
   "execution_count": null,
   "id": "cd1c28a4-f127-440a-a806-9230e668bbf4",
   "metadata": {},
   "outputs": [],
   "source": [
    "from scipy.special import legendre\n",
    "x = np.linspace(0, 1, 100)\n",
    "plt.plot(x, legendre(6)(x))\n",
    "plt.show()"
   ]
  },
  {
   "cell_type": "code",
   "execution_count": null,
   "id": "d184c5ae-d9f1-4d4e-9110-ba3276b54d35",
   "metadata": {},
   "outputs": [],
   "source": [
    "for i in range(6):\n",
    "    plt.plot(x, legendre(i)(x),label=r\"$J_%s$\"%i)\n",
    "plt.legend()\n",
    "plt.show()"
   ]
  },
  {
   "cell_type": "code",
   "execution_count": null,
   "id": "690c21e3-343b-4ab0-8523-998f4e5a64c8",
   "metadata": {},
   "outputs": [],
   "source": []
  },
  {
   "cell_type": "code",
   "execution_count": null,
   "id": "eb5927ac-3a8c-4097-b17e-a9c2b8281215",
   "metadata": {},
   "outputs": [],
   "source": []
  },
  {
   "cell_type": "code",
   "execution_count": null,
   "id": "dcda535d-1bf3-4029-a4a3-7ae6237696b4",
   "metadata": {},
   "outputs": [],
   "source": []
  },
  {
   "cell_type": "code",
   "execution_count": null,
   "id": "4a949b15-8ea1-41bc-9b04-fb6f860decbe",
   "metadata": {},
   "outputs": [],
   "source": []
  },
  {
   "cell_type": "code",
   "execution_count": null,
   "id": "42a01c36-60c8-446e-a70c-90d37c23389f",
   "metadata": {},
   "outputs": [],
   "source": []
  },
  {
   "cell_type": "code",
   "execution_count": null,
   "id": "ff562db1-10aa-4092-a80b-ee27d56155fe",
   "metadata": {},
   "outputs": [],
   "source": []
  },
  {
   "cell_type": "code",
   "execution_count": null,
   "id": "511087ba-bb8b-44c2-b886-cf75990ead62",
   "metadata": {},
   "outputs": [],
   "source": []
  },
  {
   "cell_type": "code",
   "execution_count": null,
   "id": "3dcf4937-a595-44bc-8fe0-312eb1771265",
   "metadata": {},
   "outputs": [],
   "source": []
  },
  {
   "cell_type": "code",
   "execution_count": null,
   "id": "56c9ad07-0509-4fb2-9231-67a4910da423",
   "metadata": {},
   "outputs": [],
   "source": []
  }
 ],
 "metadata": {
  "kernelspec": {
   "display_name": "Python 3 (ipykernel)",
   "language": "python",
   "name": "python3"
  },
  "language_info": {
   "codemirror_mode": {
    "name": "ipython",
    "version": 3
   },
   "file_extension": ".py",
   "mimetype": "text/x-python",
   "name": "python",
   "nbconvert_exporter": "python",
   "pygments_lexer": "ipython3",
   "version": "3.12.4"
  }
 },
 "nbformat": 4,
 "nbformat_minor": 5
}
