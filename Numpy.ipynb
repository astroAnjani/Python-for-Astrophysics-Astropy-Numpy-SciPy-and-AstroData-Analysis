{
 "cells": [
  {
   "cell_type": "markdown",
   "id": "3b5ef33d-2b26-4efb-ba0e-db56b7c3d463",
   "metadata": {},
   "source": [
    "# Basic calculations in Python"
   ]
  },
  {
   "cell_type": "code",
   "execution_count": 39,
   "id": "dc29784c-1b8a-47c8-b813-da6baf6f901c",
   "metadata": {},
   "outputs": [
    {
     "name": "stdout",
     "output_type": "stream",
     "text": [
      "Sum=  12\n",
      "Difference=  4\n",
      "Division=  2.0\n",
      "Multiplication=  32\n",
      "Remainder=  0\n"
     ]
    }
   ],
   "source": [
    "a=8\n",
    "b=4\n",
    "print('Sum= ', a+b)\n",
    "print('Difference= ', a-b)\n",
    "print('Division= ', a/b)\n",
    "print('Multiplication= ',a*b)\n",
    "#Calculating remainder here\n",
    "print('Remainder= ', a%b)"
   ]
  },
  {
   "cell_type": "markdown",
   "id": "4bbf84c8-ea82-43ea-83ac-48e2963806bc",
   "metadata": {},
   "source": [
    "## Importing the library numpy\n",
    "#### To know what a particular function does, you can use- ?function_name"
   ]
  },
  {
   "cell_type": "code",
   "execution_count": 42,
   "id": "ad540be8-59f2-41fd-986e-e0257e546bf7",
   "metadata": {},
   "outputs": [
    {
     "data": {
      "text/plain": [
       "\u001b[1;31mSignature:\u001b[0m\n",
       "\u001b[0mnp\u001b[0m\u001b[1;33m.\u001b[0m\u001b[0mloadtxt\u001b[0m\u001b[1;33m(\u001b[0m\u001b[1;33m\n",
       "\u001b[0m    \u001b[0mfname\u001b[0m\u001b[1;33m,\u001b[0m\u001b[1;33m\n",
       "\u001b[0m    \u001b[0mdtype\u001b[0m\u001b[1;33m=\u001b[0m\u001b[1;33m<\u001b[0m\u001b[1;32mclass\u001b[0m \u001b[1;34m'float'\u001b[0m\u001b[1;33m>\u001b[0m\u001b[1;33m,\u001b[0m\u001b[1;33m\n",
       "\u001b[0m    \u001b[0mcomments\u001b[0m\u001b[1;33m=\u001b[0m\u001b[1;34m'#'\u001b[0m\u001b[1;33m,\u001b[0m\u001b[1;33m\n",
       "\u001b[0m    \u001b[0mdelimiter\u001b[0m\u001b[1;33m=\u001b[0m\u001b[1;32mNone\u001b[0m\u001b[1;33m,\u001b[0m\u001b[1;33m\n",
       "\u001b[0m    \u001b[0mconverters\u001b[0m\u001b[1;33m=\u001b[0m\u001b[1;32mNone\u001b[0m\u001b[1;33m,\u001b[0m\u001b[1;33m\n",
       "\u001b[0m    \u001b[0mskiprows\u001b[0m\u001b[1;33m=\u001b[0m\u001b[1;36m0\u001b[0m\u001b[1;33m,\u001b[0m\u001b[1;33m\n",
       "\u001b[0m    \u001b[0musecols\u001b[0m\u001b[1;33m=\u001b[0m\u001b[1;32mNone\u001b[0m\u001b[1;33m,\u001b[0m\u001b[1;33m\n",
       "\u001b[0m    \u001b[0munpack\u001b[0m\u001b[1;33m=\u001b[0m\u001b[1;32mFalse\u001b[0m\u001b[1;33m,\u001b[0m\u001b[1;33m\n",
       "\u001b[0m    \u001b[0mndmin\u001b[0m\u001b[1;33m=\u001b[0m\u001b[1;36m0\u001b[0m\u001b[1;33m,\u001b[0m\u001b[1;33m\n",
       "\u001b[0m    \u001b[0mencoding\u001b[0m\u001b[1;33m=\u001b[0m\u001b[1;34m'bytes'\u001b[0m\u001b[1;33m,\u001b[0m\u001b[1;33m\n",
       "\u001b[0m    \u001b[0mmax_rows\u001b[0m\u001b[1;33m=\u001b[0m\u001b[1;32mNone\u001b[0m\u001b[1;33m,\u001b[0m\u001b[1;33m\n",
       "\u001b[0m    \u001b[1;33m*\u001b[0m\u001b[1;33m,\u001b[0m\u001b[1;33m\n",
       "\u001b[0m    \u001b[0mquotechar\u001b[0m\u001b[1;33m=\u001b[0m\u001b[1;32mNone\u001b[0m\u001b[1;33m,\u001b[0m\u001b[1;33m\n",
       "\u001b[0m    \u001b[0mlike\u001b[0m\u001b[1;33m=\u001b[0m\u001b[1;32mNone\u001b[0m\u001b[1;33m,\u001b[0m\u001b[1;33m\n",
       "\u001b[0m\u001b[1;33m)\u001b[0m\u001b[1;33m\u001b[0m\u001b[1;33m\u001b[0m\u001b[0m\n",
       "\u001b[1;31mDocstring:\u001b[0m\n",
       "Load data from a text file.\n",
       "\n",
       "Parameters\n",
       "----------\n",
       "fname : file, str, pathlib.Path, list of str, generator\n",
       "    File, filename, list, or generator to read.  If the filename\n",
       "    extension is ``.gz`` or ``.bz2``, the file is first decompressed. Note\n",
       "    that generators must return bytes or strings. The strings\n",
       "    in a list or produced by a generator are treated as lines.\n",
       "dtype : data-type, optional\n",
       "    Data-type of the resulting array; default: float.  If this is a\n",
       "    structured data-type, the resulting array will be 1-dimensional, and\n",
       "    each row will be interpreted as an element of the array.  In this\n",
       "    case, the number of columns used must match the number of fields in\n",
       "    the data-type.\n",
       "comments : str or sequence of str or None, optional\n",
       "    The characters or list of characters used to indicate the start of a\n",
       "    comment. None implies no comments. For backwards compatibility, byte\n",
       "    strings will be decoded as 'latin1'. The default is '#'.\n",
       "delimiter : str, optional\n",
       "    The character used to separate the values. For backwards compatibility,\n",
       "    byte strings will be decoded as 'latin1'. The default is whitespace.\n",
       "\n",
       "    .. versionchanged:: 1.23.0\n",
       "       Only single character delimiters are supported. Newline characters\n",
       "       cannot be used as the delimiter.\n",
       "\n",
       "converters : dict or callable, optional\n",
       "    Converter functions to customize value parsing. If `converters` is\n",
       "    callable, the function is applied to all columns, else it must be a\n",
       "    dict that maps column number to a parser function.\n",
       "    See examples for further details.\n",
       "    Default: None.\n",
       "\n",
       "    .. versionchanged:: 1.23.0\n",
       "       The ability to pass a single callable to be applied to all columns\n",
       "       was added.\n",
       "\n",
       "skiprows : int, optional\n",
       "    Skip the first `skiprows` lines, including comments; default: 0.\n",
       "usecols : int or sequence, optional\n",
       "    Which columns to read, with 0 being the first. For example,\n",
       "    ``usecols = (1,4,5)`` will extract the 2nd, 5th and 6th columns.\n",
       "    The default, None, results in all columns being read.\n",
       "\n",
       "    .. versionchanged:: 1.11.0\n",
       "        When a single column has to be read it is possible to use\n",
       "        an integer instead of a tuple. E.g ``usecols = 3`` reads the\n",
       "        fourth column the same way as ``usecols = (3,)`` would.\n",
       "unpack : bool, optional\n",
       "    If True, the returned array is transposed, so that arguments may be\n",
       "    unpacked using ``x, y, z = loadtxt(...)``.  When used with a\n",
       "    structured data-type, arrays are returned for each field.\n",
       "    Default is False.\n",
       "ndmin : int, optional\n",
       "    The returned array will have at least `ndmin` dimensions.\n",
       "    Otherwise mono-dimensional axes will be squeezed.\n",
       "    Legal values: 0 (default), 1 or 2.\n",
       "\n",
       "    .. versionadded:: 1.6.0\n",
       "encoding : str, optional\n",
       "    Encoding used to decode the inputfile. Does not apply to input streams.\n",
       "    The special value 'bytes' enables backward compatibility workarounds\n",
       "    that ensures you receive byte arrays as results if possible and passes\n",
       "    'latin1' encoded strings to converters. Override this value to receive\n",
       "    unicode arrays and pass strings as input to converters.  If set to None\n",
       "    the system default is used. The default value is 'bytes'.\n",
       "\n",
       "    .. versionadded:: 1.14.0\n",
       "max_rows : int, optional\n",
       "    Read `max_rows` rows of content after `skiprows` lines. The default is\n",
       "    to read all the rows. Note that empty rows containing no data such as\n",
       "    empty lines and comment lines are not counted towards `max_rows`,\n",
       "    while such lines are counted in `skiprows`.\n",
       "\n",
       "    .. versionadded:: 1.16.0\n",
       "\n",
       "    .. versionchanged:: 1.23.0\n",
       "        Lines containing no data, including comment lines (e.g., lines\n",
       "        starting with '#' or as specified via `comments`) are not counted\n",
       "        towards `max_rows`.\n",
       "quotechar : unicode character or None, optional\n",
       "    The character used to denote the start and end of a quoted item.\n",
       "    Occurrences of the delimiter or comment characters are ignored within\n",
       "    a quoted item. The default value is ``quotechar=None``, which means\n",
       "    quoting support is disabled.\n",
       "\n",
       "    If two consecutive instances of `quotechar` are found within a quoted\n",
       "    field, the first is treated as an escape character. See examples.\n",
       "\n",
       "    .. versionadded:: 1.23.0\n",
       "like : array_like, optional\n",
       "    Reference object to allow the creation of arrays which are not\n",
       "    NumPy arrays. If an array-like passed in as ``like`` supports\n",
       "    the ``__array_function__`` protocol, the result will be defined\n",
       "    by it. In this case, it ensures the creation of an array object\n",
       "    compatible with that passed in via this argument.\n",
       "\n",
       "    .. versionadded:: 1.20.0\n",
       "\n",
       "Returns\n",
       "-------\n",
       "out : ndarray\n",
       "    Data read from the text file.\n",
       "\n",
       "See Also\n",
       "--------\n",
       "load, fromstring, fromregex\n",
       "genfromtxt : Load data with missing values handled as specified.\n",
       "scipy.io.loadmat : reads MATLAB data files\n",
       "\n",
       "Notes\n",
       "-----\n",
       "This function aims to be a fast reader for simply formatted files.  The\n",
       "`genfromtxt` function provides more sophisticated handling of, e.g.,\n",
       "lines with missing values.\n",
       "\n",
       "Each row in the input text file must have the same number of values to be\n",
       "able to read all values. If all rows do not have same number of values, a\n",
       "subset of up to n columns (where n is the least number of values present\n",
       "in all rows) can be read by specifying the columns via `usecols`.\n",
       "\n",
       ".. versionadded:: 1.10.0\n",
       "\n",
       "The strings produced by the Python float.hex method can be used as\n",
       "input for floats.\n",
       "\n",
       "Examples\n",
       "--------\n",
       ">>> from io import StringIO   # StringIO behaves like a file object\n",
       ">>> c = StringIO(\"0 1\\n2 3\")\n",
       ">>> np.loadtxt(c)\n",
       "array([[0., 1.],\n",
       "       [2., 3.]])\n",
       "\n",
       ">>> d = StringIO(\"M 21 72\\nF 35 58\")\n",
       ">>> np.loadtxt(d, dtype={'names': ('gender', 'age', 'weight'),\n",
       "...                      'formats': ('S1', 'i4', 'f4')})\n",
       "array([(b'M', 21, 72.), (b'F', 35, 58.)],\n",
       "      dtype=[('gender', 'S1'), ('age', '<i4'), ('weight', '<f4')])\n",
       "\n",
       ">>> c = StringIO(\"1,0,2\\n3,0,4\")\n",
       ">>> x, y = np.loadtxt(c, delimiter=',', usecols=(0, 2), unpack=True)\n",
       ">>> x\n",
       "array([1., 3.])\n",
       ">>> y\n",
       "array([2., 4.])\n",
       "\n",
       "The `converters` argument is used to specify functions to preprocess the\n",
       "text prior to parsing. `converters` can be a dictionary that maps\n",
       "preprocessing functions to each column:\n",
       "\n",
       ">>> s = StringIO(\"1.618, 2.296\\n3.141, 4.669\\n\")\n",
       ">>> conv = {\n",
       "...     0: lambda x: np.floor(float(x)),  # conversion fn for column 0\n",
       "...     1: lambda x: np.ceil(float(x)),  # conversion fn for column 1\n",
       "... }\n",
       ">>> np.loadtxt(s, delimiter=\",\", converters=conv)\n",
       "array([[1., 3.],\n",
       "       [3., 5.]])\n",
       "\n",
       "`converters` can be a callable instead of a dictionary, in which case it\n",
       "is applied to all columns:\n",
       "\n",
       ">>> s = StringIO(\"0xDE 0xAD\\n0xC0 0xDE\")\n",
       ">>> import functools\n",
       ">>> conv = functools.partial(int, base=16)\n",
       ">>> np.loadtxt(s, converters=conv)\n",
       "array([[222., 173.],\n",
       "       [192., 222.]])\n",
       "\n",
       "This example shows how `converters` can be used to convert a field\n",
       "with a trailing minus sign into a negative number.\n",
       "\n",
       ">>> s = StringIO('10.01 31.25-\\n19.22 64.31\\n17.57- 63.94')\n",
       ">>> def conv(fld):\n",
       "...     return -float(fld[:-1]) if fld.endswith(b'-') else float(fld)\n",
       "...\n",
       ">>> np.loadtxt(s, converters=conv)\n",
       "array([[ 10.01, -31.25],\n",
       "       [ 19.22,  64.31],\n",
       "       [-17.57,  63.94]])\n",
       "\n",
       "Using a callable as the converter can be particularly useful for handling\n",
       "values with different formatting, e.g. floats with underscores:\n",
       "\n",
       ">>> s = StringIO(\"1 2.7 100_000\")\n",
       ">>> np.loadtxt(s, converters=float)\n",
       "array([1.e+00, 2.7e+00, 1.e+05])\n",
       "\n",
       "This idea can be extended to automatically handle values specified in\n",
       "many different formats:\n",
       "\n",
       ">>> def conv(val):\n",
       "...     try:\n",
       "...         return float(val)\n",
       "...     except ValueError:\n",
       "...         return float.fromhex(val)\n",
       ">>> s = StringIO(\"1, 2.5, 3_000, 0b4, 0x1.4000000000000p+2\")\n",
       ">>> np.loadtxt(s, delimiter=\",\", converters=conv, encoding=None)\n",
       "array([1.0e+00, 2.5e+00, 3.0e+03, 1.8e+02, 5.0e+00])\n",
       "\n",
       "Note that with the default ``encoding=\"bytes\"``, the inputs to the\n",
       "converter function are latin-1 encoded byte strings. To deactivate the\n",
       "implicit encoding prior to conversion, use ``encoding=None``\n",
       "\n",
       ">>> s = StringIO('10.01 31.25-\\n19.22 64.31\\n17.57- 63.94')\n",
       ">>> conv = lambda x: -float(x[:-1]) if x.endswith('-') else float(x)\n",
       ">>> np.loadtxt(s, converters=conv, encoding=None)\n",
       "array([[ 10.01, -31.25],\n",
       "       [ 19.22,  64.31],\n",
       "       [-17.57,  63.94]])\n",
       "\n",
       "Support for quoted fields is enabled with the `quotechar` parameter.\n",
       "Comment and delimiter characters are ignored when they appear within a\n",
       "quoted item delineated by `quotechar`:\n",
       "\n",
       ">>> s = StringIO('\"alpha, #42\", 10.0\\n\"beta, #64\", 2.0\\n')\n",
       ">>> dtype = np.dtype([(\"label\", \"U12\"), (\"value\", float)])\n",
       ">>> np.loadtxt(s, dtype=dtype, delimiter=\",\", quotechar='\"')\n",
       "array([('alpha, #42', 10.), ('beta, #64',  2.)],\n",
       "      dtype=[('label', '<U12'), ('value', '<f8')])\n",
       "\n",
       "Quoted fields can be separated by multiple whitespace characters:\n",
       "\n",
       ">>> s = StringIO('\"alpha, #42\"       10.0\\n\"beta, #64\" 2.0\\n')\n",
       ">>> dtype = np.dtype([(\"label\", \"U12\"), (\"value\", float)])\n",
       ">>> np.loadtxt(s, dtype=dtype, delimiter=None, quotechar='\"')\n",
       "array([('alpha, #42', 10.), ('beta, #64',  2.)],\n",
       "      dtype=[('label', '<U12'), ('value', '<f8')])\n",
       "\n",
       "Two consecutive quote characters within a quoted field are treated as a\n",
       "single escaped character:\n",
       "\n",
       ">>> s = StringIO('\"Hello, my name is \"\"Monty\"\"!\"')\n",
       ">>> np.loadtxt(s, dtype=\"U\", delimiter=\",\", quotechar='\"')\n",
       "array('Hello, my name is \"Monty\"!', dtype='<U26')\n",
       "\n",
       "Read subset of columns when all rows do not contain equal number of values:\n",
       "\n",
       ">>> d = StringIO(\"1 2\\n2 4\\n3 9 12\\n4 16 20\")\n",
       ">>> np.loadtxt(d, usecols=(0, 1))\n",
       "array([[ 1.,  2.],\n",
       "       [ 2.,  4.],\n",
       "       [ 3.,  9.],\n",
       "       [ 4., 16.]])\n",
       "\u001b[1;31mFile:\u001b[0m      c:\\users\\pc\\anaconda3\\lib\\site-packages\\numpy\\lib\\npyio.py\n",
       "\u001b[1;31mType:\u001b[0m      function"
      ]
     },
     "metadata": {},
     "output_type": "display_data"
    }
   ],
   "source": [
    "import numpy as np\n",
    "?np.loadtxt"
   ]
  },
  {
   "cell_type": "code",
   "execution_count": 44,
   "id": "ada05340-f6fb-4910-adeb-cc5f83d55f95",
   "metadata": {},
   "outputs": [
    {
     "data": {
      "application/json": {
       "cell": {
        "!": "OSMagics",
        "HTML": "Other",
        "SVG": "Other",
        "bash": "Other",
        "capture": "ExecutionMagics",
        "cmd": "Other",
        "code_wrap": "ExecutionMagics",
        "debug": "ExecutionMagics",
        "file": "Other",
        "html": "DisplayMagics",
        "javascript": "DisplayMagics",
        "js": "DisplayMagics",
        "latex": "DisplayMagics",
        "markdown": "DisplayMagics",
        "perl": "Other",
        "prun": "ExecutionMagics",
        "pypy": "Other",
        "python": "Other",
        "python2": "Other",
        "python3": "Other",
        "ruby": "Other",
        "script": "ScriptMagics",
        "sh": "Other",
        "svg": "DisplayMagics",
        "sx": "OSMagics",
        "system": "OSMagics",
        "time": "ExecutionMagics",
        "timeit": "ExecutionMagics",
        "writefile": "OSMagics"
       },
       "line": {
        "alias": "OSMagics",
        "alias_magic": "BasicMagics",
        "autoawait": "AsyncMagics",
        "autocall": "AutoMagics",
        "automagic": "AutoMagics",
        "autosave": "KernelMagics",
        "bookmark": "OSMagics",
        "cd": "OSMagics",
        "clear": "KernelMagics",
        "cls": "KernelMagics",
        "code_wrap": "ExecutionMagics",
        "colors": "BasicMagics",
        "conda": "PackagingMagics",
        "config": "ConfigMagics",
        "connect_info": "KernelMagics",
        "copy": "Other",
        "ddir": "Other",
        "debug": "ExecutionMagics",
        "dhist": "OSMagics",
        "dirs": "OSMagics",
        "doctest_mode": "BasicMagics",
        "echo": "Other",
        "ed": "Other",
        "edit": "KernelMagics",
        "env": "OSMagics",
        "gui": "BasicMagics",
        "hist": "Other",
        "history": "HistoryMagics",
        "killbgscripts": "ScriptMagics",
        "ldir": "Other",
        "less": "KernelMagics",
        "load": "CodeMagics",
        "load_ext": "ExtensionMagics",
        "loadpy": "CodeMagics",
        "logoff": "LoggingMagics",
        "logon": "LoggingMagics",
        "logstart": "LoggingMagics",
        "logstate": "LoggingMagics",
        "logstop": "LoggingMagics",
        "ls": "Other",
        "lsmagic": "BasicMagics",
        "macro": "ExecutionMagics",
        "magic": "BasicMagics",
        "mamba": "PackagingMagics",
        "matplotlib": "PylabMagics",
        "micromamba": "PackagingMagics",
        "mkdir": "Other",
        "more": "KernelMagics",
        "notebook": "BasicMagics",
        "page": "BasicMagics",
        "pastebin": "CodeMagics",
        "pdb": "ExecutionMagics",
        "pdef": "NamespaceMagics",
        "pdoc": "NamespaceMagics",
        "pfile": "NamespaceMagics",
        "pinfo": "NamespaceMagics",
        "pinfo2": "NamespaceMagics",
        "pip": "PackagingMagics",
        "popd": "OSMagics",
        "pprint": "BasicMagics",
        "precision": "BasicMagics",
        "prun": "ExecutionMagics",
        "psearch": "NamespaceMagics",
        "psource": "NamespaceMagics",
        "pushd": "OSMagics",
        "pwd": "OSMagics",
        "pycat": "OSMagics",
        "pylab": "PylabMagics",
        "qtconsole": "KernelMagics",
        "quickref": "BasicMagics",
        "recall": "HistoryMagics",
        "rehashx": "OSMagics",
        "reload_ext": "ExtensionMagics",
        "ren": "Other",
        "rep": "Other",
        "rerun": "HistoryMagics",
        "reset": "NamespaceMagics",
        "reset_selective": "NamespaceMagics",
        "rmdir": "Other",
        "run": "ExecutionMagics",
        "save": "CodeMagics",
        "sc": "OSMagics",
        "set_env": "OSMagics",
        "store": "StoreMagics",
        "sx": "OSMagics",
        "system": "OSMagics",
        "tb": "ExecutionMagics",
        "time": "ExecutionMagics",
        "timeit": "ExecutionMagics",
        "unalias": "OSMagics",
        "unload_ext": "ExtensionMagics",
        "who": "NamespaceMagics",
        "who_ls": "NamespaceMagics",
        "whos": "NamespaceMagics",
        "xdel": "NamespaceMagics",
        "xmode": "BasicMagics"
       }
      },
      "text/plain": [
       "Available line magics:\n",
       "%alias  %alias_magic  %autoawait  %autocall  %automagic  %autosave  %bookmark  %cd  %clear  %cls  %code_wrap  %colors  %conda  %config  %connect_info  %copy  %ddir  %debug  %dhist  %dirs  %doctest_mode  %echo  %ed  %edit  %env  %gui  %hist  %history  %killbgscripts  %ldir  %less  %load  %load_ext  %loadpy  %logoff  %logon  %logstart  %logstate  %logstop  %ls  %lsmagic  %macro  %magic  %mamba  %matplotlib  %micromamba  %mkdir  %more  %notebook  %page  %pastebin  %pdb  %pdef  %pdoc  %pfile  %pinfo  %pinfo2  %pip  %popd  %pprint  %precision  %prun  %psearch  %psource  %pushd  %pwd  %pycat  %pylab  %qtconsole  %quickref  %recall  %rehashx  %reload_ext  %ren  %rep  %rerun  %reset  %reset_selective  %rmdir  %run  %save  %sc  %set_env  %store  %sx  %system  %tb  %time  %timeit  %unalias  %unload_ext  %who  %who_ls  %whos  %xdel  %xmode\n",
       "\n",
       "Available cell magics:\n",
       "%%!  %%HTML  %%SVG  %%bash  %%capture  %%cmd  %%code_wrap  %%debug  %%file  %%html  %%javascript  %%js  %%latex  %%markdown  %%perl  %%prun  %%pypy  %%python  %%python2  %%python3  %%ruby  %%script  %%sh  %%svg  %%sx  %%system  %%time  %%timeit  %%writefile\n",
       "\n",
       "Automagic is ON, % prefix IS NOT needed for line magics."
      ]
     },
     "execution_count": 44,
     "metadata": {},
     "output_type": "execute_result"
    }
   ],
   "source": [
    "%lsmagic"
   ]
  },
  {
   "cell_type": "markdown",
   "id": "d9aa9992-e288-41d5-a76d-7bcd7645382b",
   "metadata": {},
   "source": [
    "### Creating Arrays"
   ]
  },
  {
   "cell_type": "code",
   "execution_count": 47,
   "id": "3a1bc056-a66e-473a-b107-214374e2f5bf",
   "metadata": {},
   "outputs": [
    {
     "name": "stdout",
     "output_type": "stream",
     "text": [
      "[1, 3, 45, 8] <class 'list'>\n",
      "[ 1  3 45  8] <class 'numpy.ndarray'>\n"
     ]
    }
   ],
   "source": [
    "A = [1,3,45,8]\n",
    "#To convert into numpy array\n",
    "A_np = np.array(A)\n",
    "print(A, type(A))\n",
    "print(A_np, type(A_np))"
   ]
  },
  {
   "cell_type": "code",
   "execution_count": 51,
   "id": "1c12d973-6ffd-4534-ae50-e05bc2805bb5",
   "metadata": {},
   "outputs": [
    {
     "name": "stdout",
     "output_type": "stream",
     "text": [
      "[ 1  3 45  8]\n"
     ]
    }
   ],
   "source": [
    "A=[1,3,45,8]\n",
    "B=np.array(A)\n",
    "print(B)"
   ]
  },
  {
   "cell_type": "code",
   "execution_count": 53,
   "id": "e31e7063-8528-4adc-977c-2dd4672e7ef5",
   "metadata": {},
   "outputs": [
    {
     "name": "stdout",
     "output_type": "stream",
     "text": [
      "[1. 1. 1. ... 1. 1. 1.] 10000\n"
     ]
    }
   ],
   "source": [
    "a_np = np.ones(10000)\n",
    "print(a_np,len(a_np))"
   ]
  },
  {
   "cell_type": "code",
   "execution_count": 55,
   "id": "b270abf8-1417-4bc0-b6c9-dd2edbd14cda",
   "metadata": {},
   "outputs": [
    {
     "name": "stdout",
     "output_type": "stream",
     "text": [
      "array took 1.210927963256836 milli seconds\n"
     ]
    }
   ],
   "source": [
    "import time\n",
    "start_time = time.time()\n",
    "np.sum(a_np)\n",
    "end_time = time.time()\n",
    "print('array took',(end_time-start_time)*1e3,'milli seconds')"
   ]
  },
  {
   "cell_type": "code",
   "execution_count": 57,
   "id": "77854964-ed76-40b8-bfdb-3a3214fc175d",
   "metadata": {},
   "outputs": [
    {
     "name": "stdout",
     "output_type": "stream",
     "text": [
      "list took 0.0 milli seconds\n"
     ]
    }
   ],
   "source": [
    "a = list(a_np)\n",
    "start_time = time.time()\n",
    "sum(a)\n",
    "end_time = time.time()\n",
    "print('list took',(end_time-start_time)*1e3,'milli seconds')"
   ]
  },
  {
   "cell_type": "code",
   "execution_count": 59,
   "id": "e850070b-f82e-42ec-8e22-e2dd7f5c535b",
   "metadata": {},
   "outputs": [
    {
     "name": "stdout",
     "output_type": "stream",
     "text": [
      "[0. 0. 0. 0. 0. 0. 0. 0. 0. 0.]\n"
     ]
    }
   ],
   "source": [
    "#Some more example\n",
    "a1 = np.array([4,6,8,2])\n",
    "a2 = np.zeros(10)#create array of only zeros\n",
    "print(a2)"
   ]
  },
  {
   "cell_type": "code",
   "execution_count": 61,
   "id": "7cb4b370-c175-4779-9ea0-9b9331ffaef8",
   "metadata": {},
   "outputs": [
    {
     "name": "stdout",
     "output_type": "stream",
     "text": [
      "[[0. 0.]\n",
      " [0. 0.]]\n",
      "[0.68081616 0.43555857 0.98645162 0.37494506 0.26233931 0.23825648\n",
      " 0.88009427 0.57600479 0.78407205 0.42245003]\n",
      "[-0.21408626 -0.70476633 -0.5073053   1.72908362 -1.59542052 -1.22938482\n",
      "  0.76475152 -0.15581537 -0.01919279 -1.11895638]\n",
      "[ 0.          0.52631579  1.05263158  1.57894737  2.10526316  2.63157895\n",
      "  3.15789474  3.68421053  4.21052632  4.73684211  5.26315789  5.78947368\n",
      "  6.31578947  6.84210526  7.36842105  7.89473684  8.42105263  8.94736842\n",
      "  9.47368421 10.        ]\n",
      "[0.  0.2 0.4 0.6 0.8 1.  1.2 1.4 1.6 1.8 2.  2.2 2.4 2.6 2.8 3.  3.2 3.4\n",
      " 3.6 3.8 4.  4.2 4.4 4.6 4.8 5.  5.2 5.4 5.6 5.8 6.  6.2 6.4 6.6 6.8 7.\n",
      " 7.2 7.4 7.6 7.8 8.  8.2 8.4 8.6 8.8 9.  9.2 9.4 9.6 9.8]\n",
      "[1.00000000e+00 2.15443469e+01 4.64158883e+02 1.00000000e+04]\n"
     ]
    }
   ],
   "source": [
    "a3 = np.zeros([2,2])#create a 2X2 matrix\n",
    "print(a3)\n",
    "a4 = np.random.random(10)#create an array of random number in 0 to 1\n",
    "print(a4)\n",
    "a5 = np.random.randn(10)\n",
    "print(a5)#returns an array of random numbers from normal distribution\n",
    "a6 = np.linspace(0, 10, 20)\n",
    "print(a6)#Create an array containing 20 numbers from 0 to 20(including 20)\n",
    "a7 = np.arange(0, 10, 0.2)\n",
    "print(a7)#create an array containing 0 to 10 (not include 10)\n",
    "#each element of the array will contains elements such that they differe by 0.2\n",
    "a8 = np.logspace(0,4,num=4,base=10)\n",
    "print(a8)#In linear space, the sequence starts at base ** start \n",
    "#(base to the power of start) and ends with base ** stop (see endpoint below)."
   ]
  },
  {
   "cell_type": "markdown",
   "id": "6c5025c6-7fe9-4b36-8afe-a100f6b70af5",
   "metadata": {},
   "source": [
    "### Accessing data of array and Slicing"
   ]
  },
  {
   "cell_type": "code",
   "execution_count": 64,
   "id": "15ef696e-cdd3-4988-9fa2-24a1f7c1d83d",
   "metadata": {},
   "outputs": [
    {
     "name": "stdout",
     "output_type": "stream",
     "text": [
      "[ 0.          0.52631579  1.05263158  1.57894737  2.10526316  2.63157895\n",
      "  3.15789474  3.68421053  4.21052632  4.73684211  5.26315789  5.78947368\n",
      "  6.31578947  6.84210526  7.36842105  7.89473684  8.42105263  8.94736842\n",
      "  9.47368421 10.        ]\n"
     ]
    },
    {
     "data": {
      "text/plain": [
       "1.0526315789473684"
      ]
     },
     "execution_count": 64,
     "metadata": {},
     "output_type": "execute_result"
    }
   ],
   "source": [
    "print(a6)\n",
    "a6[2]#returns (3+1)th data of array"
   ]
  },
  {
   "cell_type": "code",
   "execution_count": 66,
   "id": "7f200a96-e0b2-440f-8607-13625722008b",
   "metadata": {},
   "outputs": [
    {
     "data": {
      "text/plain": [
       "8.947368421052632"
      ]
     },
     "execution_count": 66,
     "metadata": {},
     "output_type": "execute_result"
    }
   ],
   "source": [
    "a6[-3]#returns 2nd data from last element"
   ]
  },
  {
   "cell_type": "code",
   "execution_count": 68,
   "id": "d757eeb6-f597-4bb4-a1f0-6c6c91f4ea26",
   "metadata": {},
   "outputs": [
    {
     "data": {
      "text/plain": [
       "array([ 0.        ,  3.15789474,  6.31578947,  9.47368421, 12.63157895,\n",
       "       15.78947368, 18.94736842, 22.10526316, 25.26315789, 28.42105263,\n",
       "       31.57894737, 34.73684211, 37.89473684, 41.05263158, 44.21052632,\n",
       "       47.36842105, 50.52631579, 53.68421053, 56.84210526, 60.        ])"
      ]
     },
     "execution_count": 68,
     "metadata": {},
     "output_type": "execute_result"
    }
   ],
   "source": [
    "a6*6#retruns square of all elemets of the array"
   ]
  },
  {
   "cell_type": "code",
   "execution_count": 70,
   "id": "c3f7ab32-3609-4113-b036-a12884215658",
   "metadata": {},
   "outputs": [
    {
     "data": {
      "text/plain": [
       "array([ 0.        ,  0.50235115,  0.86872962,  0.99996678,  0.86054034,\n",
       "        0.48818921, -0.01630136, -0.5163796 , -0.87668803, -0.99970104,\n",
       "       -0.85212237, -0.47389753,  0.03259839,  0.53027082,  0.88441346,\n",
       "        0.99916962,  0.84347795,  0.4594799 , -0.04888676, -0.54402111])"
      ]
     },
     "execution_count": 70,
     "metadata": {},
     "output_type": "execute_result"
    }
   ],
   "source": [
    "np.sin(a6)#/a6#Compute sinc(x)\n",
    "#Note: (sinx/x) for x = 0 is not defined"
   ]
  },
  {
   "cell_type": "code",
   "execution_count": 72,
   "id": "c3f235f4-9ce1-4022-ae62-22ca82e025db",
   "metadata": {},
   "outputs": [
    {
     "data": {
      "text/plain": [
       "array([1, 2, 3, 4, 5, 6, 7, 8])"
      ]
     },
     "execution_count": 72,
     "metadata": {},
     "output_type": "execute_result"
    }
   ],
   "source": [
    "a = np.array([1,2,3,4,5,6,7,8])\n",
    "a[:]#gives full array"
   ]
  },
  {
   "cell_type": "code",
   "execution_count": 74,
   "id": "ccfa9bc7-78fe-48bf-9fca-860bdcdee7a3",
   "metadata": {},
   "outputs": [
    {
     "data": {
      "text/plain": [
       "array([3, 4, 5])"
      ]
     },
     "execution_count": 74,
     "metadata": {},
     "output_type": "execute_result"
    }
   ],
   "source": [
    "a[2:5]\n",
    "#returns an array from 2nd indexed element to 4th indexed element of array a"
   ]
  },
  {
   "cell_type": "code",
   "execution_count": 76,
   "id": "d29be4db-451e-4bdd-bf69-d1dde02a3693",
   "metadata": {},
   "outputs": [
    {
     "data": {
      "text/plain": [
       "array([2, 3, 4, 5, 6, 7])"
      ]
     },
     "execution_count": 76,
     "metadata": {},
     "output_type": "execute_result"
    }
   ],
   "source": [
    "a[1:7:1]# returns an array of elements starting from a[1] to a[7] but with a index gap of 2"
   ]
  },
  {
   "cell_type": "code",
   "execution_count": 92,
   "id": "b3bf968f-34de-48a4-a0e2-e6a213ad7243",
   "metadata": {},
   "outputs": [
    {
     "data": {
      "text/plain": [
       "array([1, 2, 3, 4])"
      ]
     },
     "execution_count": 92,
     "metadata": {},
     "output_type": "execute_result"
    }
   ],
   "source": [
    "a[0:4]"
   ]
  },
  {
   "cell_type": "code",
   "execution_count": 94,
   "id": "bd452479-b75b-4895-8f87-10088a303049",
   "metadata": {},
   "outputs": [
    {
     "data": {
      "text/plain": [
       "array([], dtype=int32)"
      ]
     },
     "execution_count": 94,
     "metadata": {},
     "output_type": "execute_result"
    }
   ],
   "source": [
    "a[-1:3]\n",
    "#We can also use negative indexes."
   ]
  },
  {
   "cell_type": "markdown",
   "id": "50681fce-e3b9-4733-8e24-786947e2d55a",
   "metadata": {},
   "source": [
    "### We can also check conditions using basic logics and filter arrays and also create masks"
   ]
  },
  {
   "cell_type": "code",
   "execution_count": 96,
   "id": "25143273-3e83-4c28-b6b0-ba23d29c55d3",
   "metadata": {},
   "outputs": [
    {
     "data": {
      "text/plain": [
       "array([False, False, False,  True,  True,  True,  True])"
      ]
     },
     "execution_count": 96,
     "metadata": {},
     "output_type": "execute_result"
    }
   ],
   "source": [
    "a = np.array([2,4,5,6,7,8,10])\n",
    "a>5"
   ]
  },
  {
   "cell_type": "code",
   "execution_count": 98,
   "id": "cd785c5c-471f-4df0-b364-f9393dfe997c",
   "metadata": {},
   "outputs": [
    {
     "data": {
      "text/plain": [
       "array([6, 7])"
      ]
     },
     "execution_count": 98,
     "metadata": {},
     "output_type": "execute_result"
    }
   ],
   "source": [
    "a[(a>5) & (a<8)]#Only returns elements which satisfy the conditions"
   ]
  },
  {
   "cell_type": "markdown",
   "id": "7e6a8cc6-60d3-42a7-895f-19f4ff6e878a",
   "metadata": {},
   "source": [
    "## Statistics with numpy"
   ]
  },
  {
   "cell_type": "code",
   "execution_count": 107,
   "id": "a3b3b219-72e0-4896-9b25-125760ea8e81",
   "metadata": {},
   "outputs": [],
   "source": [
    "a = np.random.randn(10000)+6"
   ]
  },
  {
   "cell_type": "code",
   "execution_count": 134,
   "id": "5d566458-2c59-44a3-8cc1-189c5d39ea30",
   "metadata": {},
   "outputs": [
    {
     "data": {
      "text/plain": [
       "(array([100., 100., 100., 100., 100., 100., 100., 100., 100., 100.]),\n",
       " array([-100.,  -80.,  -60.,  -40.,  -20.,    0.,   20.,   40.,   60.,\n",
       "          80.,  100.]),\n",
       " <BarContainer object of 10 artists>)"
      ]
     },
     "execution_count": 134,
     "metadata": {},
     "output_type": "execute_result"
    },
    {
     "data": {
      "image/png": "[encoded data removed]",
      "text/plain": [
       "<Figure size 640x480 with 1 Axes>"
      ]
     },
     "metadata": {},
     "output_type": "display_data"
    }
   ],
   "source": [
    "plt.hist(a) #plt is for plotting, Which is introduced later in this file."
   ]
  },
  {
   "cell_type": "code",
   "execution_count": 136,
   "id": "0df887a7-02a4-4c43-b433-25a239eb6811",
   "metadata": {},
   "outputs": [
    {
     "data": {
      "text/plain": [
       "7.275957614183426e-15"
      ]
     },
     "execution_count": 136,
     "metadata": {},
     "output_type": "execute_result"
    }
   ],
   "source": [
    "np.mean(a)#Find mean of all elements of array a"
   ]
  },
  {
   "cell_type": "code",
   "execution_count": 111,
   "id": "c27820be-ac5b-4ea4-b477-9271f1cdd302",
   "metadata": {},
   "outputs": [
    {
     "data": {
      "text/plain": [
       "1.0109074327206402"
      ]
     },
     "execution_count": 111,
     "metadata": {},
     "output_type": "execute_result"
    }
   ],
   "source": [
    "np.std(a)#Find standard divison"
   ]
  },
  {
   "cell_type": "code",
   "execution_count": 113,
   "id": "df077674-26b6-469e-86f2-2739a7e68d16",
   "metadata": {},
   "outputs": [
    {
     "data": {
      "text/plain": [
       "array([1, 3, 6])"
      ]
     },
     "execution_count": 113,
     "metadata": {},
     "output_type": "execute_result"
    }
   ],
   "source": [
    "a = np.array([1,2,3])\n",
    "np.cumsum(a)#Find cumulative sum\n",
    "#1, 1+2, 1+2+3"
   ]
  },
  {
   "cell_type": "markdown",
   "id": "a8f16033-e44b-4171-9f92-083ab9c75a30",
   "metadata": {},
   "source": [
    "### Calculus with NumPy\n",
    "##### To perform derivatives:-"
   ]
  },
  {
   "cell_type": "code",
   "execution_count": 138,
   "id": "cfefcd96-2595-4089-b7bb-3316a0097589",
   "metadata": {},
   "outputs": [
    {
     "data": {
      "image/png": "[encoded data removed]",
      "text/plain": [
       "<Figure size 640x480 with 1 Axes>"
      ]
     },
     "metadata": {},
     "output_type": "display_data"
    }
   ],
   "source": [
    "x = np.linspace(0,10,1000)\n",
    "y = np.sin(x)\n",
    "dy_dx = np.gradient(y,x)#Find derivative\n",
    "plt.plot(x,y,label=r\"$\\sin(x)$\")\n",
    "plt.plot(x,dy_dx,label=r\"$\\frac{d}{dx}\\sin(x)$\")\n",
    "plt.legend()\n",
    "plt.grid()\n",
    "plt.show()"
   ]
  },
  {
   "cell_type": "markdown",
   "id": "dafabb4c-7329-4922-88e9-c04bd2d15cae",
   "metadata": {},
   "source": [
    "##### To perform Integration:-"
   ]
  },
  {
   "cell_type": "code",
   "execution_count": 140,
   "id": "0ad91407-8d46-43d3-832c-b00cf7226390",
   "metadata": {},
   "outputs": [
    {
     "data": {
      "image/png": "[encoded data removed]",
      "text/plain": [
       "<Figure size 640x480 with 1 Axes>"
      ]
     },
     "metadata": {},
     "output_type": "display_data"
    }
   ],
   "source": [
    "y_integrate = np.cumsum(y)*(x[1]-x[0])\n",
    "plt.plot(x,y,label=r\"$\\sin(x)$\")\n",
    "plt.plot(x,y_integrate,label=r\"$\\int_0^{10}\\sin(x) dx$\")\n",
    "plt.legend()\n",
    "plt.grid()\n",
    "plt.show()#Comment on the graph of this one"
   ]
  },
  {
   "cell_type": "markdown",
   "id": "4b405a9b-3f7e-4b46-9db6-5a9a4f45926a",
   "metadata": {},
   "source": [
    "#### Multidimensional Array"
   ]
  },
  {
   "cell_type": "code",
   "execution_count": 120,
   "id": "a3f0fdc5-5e05-4d88-a394-2ad7ab57a0d4",
   "metadata": {},
   "outputs": [
    {
     "data": {
      "text/plain": [
       "array([[ 1, 23,  8],\n",
       "       [ 2,  7,  8],\n",
       "       [ 8,  0,  9]])"
      ]
     },
     "execution_count": 120,
     "metadata": {},
     "output_type": "execute_result"
    }
   ],
   "source": [
    "a1 = np.array([[1,23,8],[2,7,8],[8,0,9]])\n",
    "a1#This is a multidimensional array -- tensor"
   ]
  },
  {
   "cell_type": "code",
   "execution_count": 122,
   "id": "ef7101ec-cd58-4058-ba5c-17d24c03e22e",
   "metadata": {},
   "outputs": [
    {
     "data": {
      "text/plain": [
       "(3, 3)"
      ]
     },
     "execution_count": 122,
     "metadata": {},
     "output_type": "execute_result"
    }
   ],
   "source": [
    "a1.shape#Returns the size along row and column"
   ]
  },
  {
   "cell_type": "markdown",
   "id": "8ea9866d-49be-491b-aa1c-b64fb1b56035",
   "metadata": {},
   "source": [
    "### Plotting"
   ]
  },
  {
   "cell_type": "code",
   "execution_count": 125,
   "id": "bedecd27-1e86-43ac-8efd-75392f869731",
   "metadata": {},
   "outputs": [],
   "source": [
    "import matplotlib.pyplot as plt#let's plot some basic function"
   ]
  },
  {
   "cell_type": "code",
   "execution_count": 126,
   "id": "1aeca455-0452-41b1-acaa-06462f3f0fa7",
   "metadata": {},
   "outputs": [
    {
     "data": {
      "image/png": "[encoded data removed]",
      "text/plain": [
       "<Figure size 640x480 with 1 Axes>"
      ]
     },
     "metadata": {},
     "output_type": "display_data"
    }
   ],
   "source": [
    "x = np.linspace(0,10,100)\n",
    "y = np.sin(x)\n",
    "plt.plot(x,y)\n",
    "plt.show()"
   ]
  },
  {
   "cell_type": "code",
   "execution_count": 128,
   "id": "138a4c7b-2fd0-45ef-aaa0-8ef62ff8d380",
   "metadata": {},
   "outputs": [
    {
     "data": {
      "image/png": "[encoded data removed]",
      "text/plain": [
       "<Figure size 640x480 with 1 Axes>"
      ]
     },
     "metadata": {},
     "output_type": "display_data"
    }
   ],
   "source": [
    "a = np.linspace(-100,100,1000) #to create an array\n",
    "b = 2*a**2 + 5\n",
    "plt.plot(a,b,'-k')\n",
    "plt.show()"
   ]
  },
  {
   "cell_type": "code",
   "execution_count": null,
   "id": "7fb002d1-a64d-4240-b1ec-fd4e1fd067b1",
   "metadata": {},
   "outputs": [],
   "source": []
  },
  {
   "cell_type": "code",
   "execution_count": null,
   "id": "43e1136b-abe1-4f8d-bfef-77df56f48037",
   "metadata": {},
   "outputs": [],
   "source": []
  },
  {
   "cell_type": "code",
   "execution_count": null,
   "id": "44ff3e6a-be05-4b2c-86cc-cb9e3443b665",
   "metadata": {},
   "outputs": [],
   "source": []
  },
  {
   "cell_type": "code",
   "execution_count": null,
   "id": "39783477-2338-4c7e-a0f6-4f2c4b505bf1",
   "metadata": {},
   "outputs": [],
   "source": []
  },
  {
   "cell_type": "code",
   "execution_count": null,
   "id": "76eb3422-9078-4b3f-8f07-22b9e0e7bd6c",
   "metadata": {},
   "outputs": [],
   "source": []
  },
  {
   "cell_type": "code",
   "execution_count": null,
   "id": "20800da2-585e-49fe-9cad-b3c17d2559ad",
   "metadata": {},
   "outputs": [],
   "source": []
  }
 ],
 "metadata": {
  "kernelspec": {
   "display_name": "Python 3 (ipykernel)",
   "language": "python",
   "name": "python3"
  },
  "language_info": {
   "codemirror_mode": {
    "name": "ipython",
    "version": 3
   },
   "file_extension": ".py",
   "mimetype": "text/x-python",
   "name": "python",
   "nbconvert_exporter": "python",
   "pygments_lexer": "ipython3",
   "version": "3.12.4"
  }
 },
 "nbformat": 4,
 "nbformat_minor": 5
}
