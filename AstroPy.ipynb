{
 "cells": [
  {
   "cell_type": "markdown",
   "id": "4e51fbd3-aa7e-474a-848e-5e3abc8069d7",
   "metadata": {},
   "source": [
    "# ASTROPY\n",
    "#### Astropy is a community-driven Python package containing many tools and functions that are useful for doing astronomy and astrophysics, from observation planning, data reduction and data analysis to modelling and numerical calculations."
   ]
  },
  {
   "cell_type": "markdown",
   "id": "0197698a-c460-496e-b370-1f7dc470f394",
   "metadata": {},
   "source": [
    "### Constants and Unit Convertion\n"
   ]
  },
  {
   "cell_type": "code",
   "execution_count": 6,
   "id": "d83ca91c-c834-4a1a-bc83-6143e24d1933",
   "metadata": {},
   "outputs": [
    {
     "name": "stdout",
     "output_type": "stream",
     "text": [
      "  Name   = Gravitational constant\n",
      "  Value  = 6.6743e-11\n",
      "  Uncertainty  = 1.5e-15\n",
      "  Unit  = m3 / (kg s2)\n",
      "  Reference = CODATA 2018\n",
      "  Name   = Solar mass\n",
      "  Value  = 1.988409870698051e+30\n",
      "  Uncertainty  = 4.468805426856864e+25\n",
      "  Unit  = kg\n",
      "  Reference = IAU 2015 Resolution B 3 + CODATA 2018\n",
      "  Name   = Earth mass\n",
      "  Value  = 5.972167867791379e+24\n",
      "  Uncertainty  = 1.3422009501651213e+20\n",
      "  Unit  = kg\n",
      "  Reference = IAU 2015 Resolution B 3 + CODATA 2018\n",
      "  Name   = Nominal Earth equatorial radius\n",
      "  Value  = 6378100.0\n",
      "  Uncertainty  = 0.0\n",
      "  Unit  = m\n",
      "  Reference = IAU 2015 Resolution B 3\n"
     ]
    }
   ],
   "source": [
    "from astropy import constants as const #import the constants submodule of astropy\n",
    "print(const.G)\n",
    "print(const.M_sun)\n",
    "print(const.M_earth)\n",
    "print(const.R_earth)"
   ]
  },
  {
   "cell_type": "markdown",
   "id": "b3f29b7c-f013-42c9-b725-e9b4bd005a7a",
   "metadata": {},
   "source": [
    "##### Let's try and find earth's semi-major axis using this constants and Kepler's Law."
   ]
  },
  {
   "cell_type": "code",
   "execution_count": 15,
   "id": "1a4ebffe-c9db-44a6-a7cb-0bec0742cb84",
   "metadata": {},
   "outputs": [],
   "source": [
    "import numpy as np\n",
    "from astropy import units as u # To make units correct. Just wait we will learn this\n",
    "def semi_major_calc(T,M,m):\n",
    "    return np.cbrt((T**2*const.G*(m+M))/(4*np.pi))"
   ]
  },
  {
   "cell_type": "code",
   "execution_count": 17,
   "id": "3242743b-dccc-4d7f-812f-74b7072f1961",
   "metadata": {},
   "outputs": [
    {
     "data": {
      "text/latex": [
       "$2.189973 \\times 10^{11} \\; \\mathrm{m}$"
      ],
      "text/plain": [
       "<Quantity 2.18997301e+11 m>"
      ]
     },
     "execution_count": 17,
     "metadata": {},
     "output_type": "execute_result"
    }
   ],
   "source": [
    "T = 365*24*3600*u.s#Convert time period into sec\n",
    "m = const.M_earth\n",
    "M = const.M_sun\n",
    "semi_major_calc(T,M,m)"
   ]
  },
  {
   "cell_type": "code",
   "execution_count": 19,
   "id": "c05171da-ad2c-476d-ada2-576da0221c1d",
   "metadata": {},
   "outputs": [
    {
     "name": "stdout",
     "output_type": "stream",
     "text": [
      "  Name   = Speed of light in vacuum\n",
      "  Value  = 299792458.0\n",
      "  Uncertainty  = 0.0\n",
      "  Unit  = m / s\n",
      "  Reference = CODATA 2018\n"
     ]
    }
   ],
   "source": [
    "from astropy import units as u# To access the unit tools\n",
    "print(const.c)"
   ]
  },
  {
   "cell_type": "code",
   "execution_count": 21,
   "id": "69b51380-6259-45d7-ac20-3501a0846eba",
   "metadata": {},
   "outputs": [
    {
     "name": "stdout",
     "output_type": "stream",
     "text": [
      "299792.458 km / s\n"
     ]
    }
   ],
   "source": [
    "print(const.c.to('km/s'))#converts speed of light from m/s to km/s"
   ]
  },
  {
   "cell_type": "code",
   "execution_count": 25,
   "id": "84a9dc9b-f3f6-4c59-851d-251ee7950118",
   "metadata": {},
   "outputs": [
    {
     "data": {
      "text/latex": [
       "$2.9979246 \\times 10^{10} \\; \\mathrm{\\frac{cm}{s}}$"
      ],
      "text/plain": [
       "<Quantity 2.99792458e+10 cm / s>"
      ]
     },
     "execution_count": 25,
     "metadata": {},
     "output_type": "execute_result"
    }
   ],
   "source": [
    "const.c.cgs #WE can also directly access values in cgs unit"
   ]
  },
  {
   "cell_type": "markdown",
   "id": "e1940fac-fc86-454b-a8ed-6a800eacbcd0",
   "metadata": {},
   "source": [
    "#### If conversion is not possible then it will show error,like below"
   ]
  },
  {
   "cell_type": "code",
   "execution_count": 47,
   "id": "6592cf01-7a90-40c5-ae50-35ab990c6044",
   "metadata": {},
   "outputs": [
    {
     "name": "stdout",
     "output_type": "stream",
     "text": [
      "  Name   = Planck constant\n",
      "  Value  = 6.62607015e-34\n",
      "  Uncertainty  = 0.0\n",
      "  Unit  = J s\n",
      "  Reference = CODATA 2018\n"
     ]
    },
    {
     "ename": "UnitConversionError",
     "evalue": "'J s' (action/angular momentum) and 'MeV' (energy/torque/work) are not convertible",
     "output_type": "error",
     "traceback": [
      "\u001b[1;31m---------------------------------------------------------------------------\u001b[0m",
      "\u001b[1;31mUnitConversionError\u001b[0m                       Traceback (most recent call last)",
      "Cell \u001b[1;32mIn[47], line 2\u001b[0m\n\u001b[0;32m      1\u001b[0m \u001b[38;5;28mprint\u001b[39m(const\u001b[38;5;241m.\u001b[39mh)\n\u001b[1;32m----> 2\u001b[0m \u001b[38;5;28mprint\u001b[39m(const\u001b[38;5;241m.\u001b[39mh\u001b[38;5;241m.\u001b[39mto(\u001b[38;5;124m'\u001b[39m\u001b[38;5;124mMeV\u001b[39m\u001b[38;5;124m'\u001b[39m))\n",
      "File \u001b[1;32m~\\anaconda3\\Lib\\site-packages\\astropy\\units\\quantity.py:943\u001b[0m, in \u001b[0;36mQuantity.to\u001b[1;34m(self, unit, equivalencies, copy)\u001b[0m\n\u001b[0;32m    939\u001b[0m unit \u001b[38;5;241m=\u001b[39m Unit(unit)\n\u001b[0;32m    940\u001b[0m \u001b[38;5;28;01mif\u001b[39;00m copy:\n\u001b[0;32m    941\u001b[0m     \u001b[38;5;66;03m# Avoid using to_value to ensure that we make a copy. We also\u001b[39;00m\n\u001b[0;32m    942\u001b[0m     \u001b[38;5;66;03m# don't want to slow down this method (esp. the scalar case).\u001b[39;00m\n\u001b[1;32m--> 943\u001b[0m     value \u001b[38;5;241m=\u001b[39m \u001b[38;5;28mself\u001b[39m\u001b[38;5;241m.\u001b[39m_to_value(unit, equivalencies)\n\u001b[0;32m    944\u001b[0m \u001b[38;5;28;01melse\u001b[39;00m:\n\u001b[0;32m    945\u001b[0m     \u001b[38;5;66;03m# to_value only copies if necessary\u001b[39;00m\n\u001b[0;32m    946\u001b[0m     value \u001b[38;5;241m=\u001b[39m \u001b[38;5;28mself\u001b[39m\u001b[38;5;241m.\u001b[39mto_value(unit, equivalencies)\n",
      "File \u001b[1;32m~\\anaconda3\\Lib\\site-packages\\astropy\\units\\quantity.py:896\u001b[0m, in \u001b[0;36mQuantity._to_value\u001b[1;34m(self, unit, equivalencies)\u001b[0m\n\u001b[0;32m    893\u001b[0m     equivalencies \u001b[38;5;241m=\u001b[39m \u001b[38;5;28mself\u001b[39m\u001b[38;5;241m.\u001b[39m_equivalencies\n\u001b[0;32m    894\u001b[0m \u001b[38;5;28;01mif\u001b[39;00m \u001b[38;5;129;01mnot\u001b[39;00m \u001b[38;5;28mself\u001b[39m\u001b[38;5;241m.\u001b[39mdtype\u001b[38;5;241m.\u001b[39mnames \u001b[38;5;129;01mor\u001b[39;00m \u001b[38;5;28misinstance\u001b[39m(\u001b[38;5;28mself\u001b[39m\u001b[38;5;241m.\u001b[39munit, StructuredUnit):\n\u001b[0;32m    895\u001b[0m     \u001b[38;5;66;03m# Standard path, let unit to do work.\u001b[39;00m\n\u001b[1;32m--> 896\u001b[0m     \u001b[38;5;28;01mreturn\u001b[39;00m \u001b[38;5;28mself\u001b[39m\u001b[38;5;241m.\u001b[39munit\u001b[38;5;241m.\u001b[39mto(\n\u001b[0;32m    897\u001b[0m         unit, \u001b[38;5;28mself\u001b[39m\u001b[38;5;241m.\u001b[39mview(np\u001b[38;5;241m.\u001b[39mndarray), equivalencies\u001b[38;5;241m=\u001b[39mequivalencies\n\u001b[0;32m    898\u001b[0m     )\n\u001b[0;32m    900\u001b[0m \u001b[38;5;28;01melse\u001b[39;00m:\n\u001b[0;32m    901\u001b[0m     \u001b[38;5;66;03m# The .to() method of a simple unit cannot convert a structured\u001b[39;00m\n\u001b[0;32m    902\u001b[0m     \u001b[38;5;66;03m# dtype, so we work around it, by recursing.\u001b[39;00m\n\u001b[0;32m    903\u001b[0m     \u001b[38;5;66;03m# TODO: deprecate this?\u001b[39;00m\n\u001b[0;32m    904\u001b[0m     \u001b[38;5;66;03m# Convert simple to Structured on initialization?\u001b[39;00m\n\u001b[0;32m    905\u001b[0m     result \u001b[38;5;241m=\u001b[39m np\u001b[38;5;241m.\u001b[39mempty_like(\u001b[38;5;28mself\u001b[39m\u001b[38;5;241m.\u001b[39mview(np\u001b[38;5;241m.\u001b[39mndarray))\n",
      "File \u001b[1;32m~\\anaconda3\\Lib\\site-packages\\astropy\\units\\core.py:1227\u001b[0m, in \u001b[0;36mUnitBase.to\u001b[1;34m(self, other, value, equivalencies)\u001b[0m\n\u001b[0;32m   1225\u001b[0m     \u001b[38;5;28;01mreturn\u001b[39;00m UNITY\n\u001b[0;32m   1226\u001b[0m \u001b[38;5;28;01melse\u001b[39;00m:\n\u001b[1;32m-> 1227\u001b[0m     \u001b[38;5;28;01mreturn\u001b[39;00m \u001b[38;5;28mself\u001b[39m\u001b[38;5;241m.\u001b[39mget_converter(Unit(other), equivalencies)(value)\n",
      "File \u001b[1;32m~\\anaconda3\\Lib\\site-packages\\astropy\\units\\core.py:1156\u001b[0m, in \u001b[0;36mUnitBase.get_converter\u001b[1;34m(self, other, equivalencies)\u001b[0m\n\u001b[0;32m   1153\u001b[0m             \u001b[38;5;28;01melse\u001b[39;00m:\n\u001b[0;32m   1154\u001b[0m                 \u001b[38;5;28;01mreturn\u001b[39;00m \u001b[38;5;28;01mlambda\u001b[39;00m v: b(converter(v))\n\u001b[1;32m-> 1156\u001b[0m \u001b[38;5;28;01mraise\u001b[39;00m exc\n",
      "File \u001b[1;32m~\\anaconda3\\Lib\\site-packages\\astropy\\units\\core.py:1139\u001b[0m, in \u001b[0;36mUnitBase.get_converter\u001b[1;34m(self, other, equivalencies)\u001b[0m\n\u001b[0;32m   1137\u001b[0m \u001b[38;5;66;03m# if that doesn't work, maybe we can do it with equivalencies?\u001b[39;00m\n\u001b[0;32m   1138\u001b[0m \u001b[38;5;28;01mtry\u001b[39;00m:\n\u001b[1;32m-> 1139\u001b[0m     \u001b[38;5;28;01mreturn\u001b[39;00m \u001b[38;5;28mself\u001b[39m\u001b[38;5;241m.\u001b[39m_apply_equivalencies(\n\u001b[0;32m   1140\u001b[0m         \u001b[38;5;28mself\u001b[39m, other, \u001b[38;5;28mself\u001b[39m\u001b[38;5;241m.\u001b[39m_normalize_equivalencies(equivalencies)\n\u001b[0;32m   1141\u001b[0m     )\n\u001b[0;32m   1142\u001b[0m \u001b[38;5;28;01mexcept\u001b[39;00m UnitsError \u001b[38;5;28;01mas\u001b[39;00m exc:\n\u001b[0;32m   1143\u001b[0m     \u001b[38;5;66;03m# Last hope: maybe other knows how to do it?\u001b[39;00m\n\u001b[0;32m   1144\u001b[0m     \u001b[38;5;66;03m# We assume the equivalencies have the unit itself as first item.\u001b[39;00m\n\u001b[0;32m   1145\u001b[0m     \u001b[38;5;66;03m# TODO: maybe better for other to have a `_back_converter` method?\u001b[39;00m\n\u001b[0;32m   1146\u001b[0m     \u001b[38;5;28;01mif\u001b[39;00m \u001b[38;5;28mhasattr\u001b[39m(other, \u001b[38;5;124m\"\u001b[39m\u001b[38;5;124mequivalencies\u001b[39m\u001b[38;5;124m\"\u001b[39m):\n",
      "File \u001b[1;32m~\\anaconda3\\Lib\\site-packages\\astropy\\units\\core.py:1090\u001b[0m, in \u001b[0;36mUnitBase._apply_equivalencies\u001b[1;34m(self, unit, other, equivalencies)\u001b[0m\n\u001b[0;32m   1087\u001b[0m unit_str \u001b[38;5;241m=\u001b[39m get_err_str(unit)\n\u001b[0;32m   1088\u001b[0m other_str \u001b[38;5;241m=\u001b[39m get_err_str(other)\n\u001b[1;32m-> 1090\u001b[0m \u001b[38;5;28;01mraise\u001b[39;00m UnitConversionError(\u001b[38;5;124mf\u001b[39m\u001b[38;5;124m\"\u001b[39m\u001b[38;5;132;01m{\u001b[39;00munit_str\u001b[38;5;132;01m}\u001b[39;00m\u001b[38;5;124m and \u001b[39m\u001b[38;5;132;01m{\u001b[39;00mother_str\u001b[38;5;132;01m}\u001b[39;00m\u001b[38;5;124m are not convertible\u001b[39m\u001b[38;5;124m\"\u001b[39m)\n",
      "\u001b[1;31mUnitConversionError\u001b[0m: 'J s' (action/angular momentum) and 'MeV' (energy/torque/work) are not convertible"
     ]
    }
   ],
   "source": [
    "print(const.h)\n",
    "print(const.h.to('MeV'))"
   ]
  },
  {
   "cell_type": "code",
   "execution_count": 45,
   "id": "a46efeb7-a346-45c1-a11e-3c785e62b6c9",
   "metadata": {},
   "outputs": [
    {
     "name": "stdout",
     "output_type": "stream",
     "text": [
      "8.187105776823886e-14 m2 kg / s2\n"
     ]
    },
    {
     "data": {
      "text/latex": [
       "$0.51099895 \\; \\mathrm{MeV}$"
      ],
      "text/plain": [
       "<Quantity 0.51099895 MeV>"
      ]
     },
     "execution_count": 45,
     "metadata": {},
     "output_type": "execute_result"
    }
   ],
   "source": [
    "#Lets find rest-mass energy of electron\n",
    "#My teacher is going to beat me for using rest-mass\n",
    "E_0 = const.m_e*const.c**2#electron's mass\n",
    "print(E_0)\n",
    "E_0.to('MeV')"
   ]
  },
  {
   "cell_type": "markdown",
   "id": "c25a19fd-ff43-4349-bc70-4f436c1be3a7",
   "metadata": {},
   "source": [
    "##### If we have some scalar, we can add units to it"
   ]
  },
  {
   "cell_type": "code",
   "execution_count": 34,
   "id": "f6caab6d-ae9f-4336-a57c-59a8635192d1",
   "metadata": {},
   "outputs": [
    {
     "name": "stdout",
     "output_type": "stream",
     "text": [
      "2\n",
      "2.0 m / s\n"
     ]
    }
   ],
   "source": [
    "a = 2\n",
    "print(a)\n",
    "print(a*(u.m/u.s))#make it 2m/s -- velocity"
   ]
  },
  {
   "cell_type": "markdown",
   "id": "267dc405-9742-4a90-98a5-425c0a8e964f",
   "metadata": {},
   "source": [
    "##### In astronomy, observed data is typically stored in fits files, that can be plotted here using the same packages to plot data points. Here, I am going to give an example using a published image of a popular disk, that recently garnered attention for a newly discovered protoplanet in the system, AB Aur b\n"
   ]
  },
  {
   "cell_type": "code",
   "execution_count": 41,
   "id": "80ac979f-b1d2-4bf2-82b6-aad7c6a827f6",
   "metadata": {},
   "outputs": [],
   "source": [
    "#import astronomy package\n",
    "from astropy.io import fits"
   ]
  },
  {
   "cell_type": "code",
   "execution_count": null,
   "id": "c7561f9b-fad3-4e47-920b-b16fc6300fa6",
   "metadata": {},
   "outputs": [],
   "source": []
  },
  {
   "cell_type": "code",
   "execution_count": null,
   "id": "5192a639-5805-49d3-a4b2-f9ac5e50eef7",
   "metadata": {},
   "outputs": [],
   "source": []
  },
  {
   "cell_type": "code",
   "execution_count": null,
   "id": "5323fb6f-5a96-4e44-ae20-56889688a8d7",
   "metadata": {},
   "outputs": [],
   "source": []
  },
  {
   "cell_type": "code",
   "execution_count": null,
   "id": "c4e1b298-3126-41eb-9a1f-0ff545fd8993",
   "metadata": {},
   "outputs": [],
   "source": []
  },
  {
   "cell_type": "code",
   "execution_count": null,
   "id": "d7afec65-e3e1-4827-915d-50a1282add3b",
   "metadata": {},
   "outputs": [],
   "source": []
  },
  {
   "cell_type": "code",
   "execution_count": null,
   "id": "ebf4d593-c45e-4493-a930-6dd287126e11",
   "metadata": {},
   "outputs": [],
   "source": []
  },
  {
   "cell_type": "code",
   "execution_count": null,
   "id": "d519f5fc-c61a-40b4-b124-b5cc7c6404fc",
   "metadata": {},
   "outputs": [],
   "source": []
  },
  {
   "cell_type": "code",
   "execution_count": null,
   "id": "e91ba788-caf7-47ed-8ed6-0cb12e592c12",
   "metadata": {},
   "outputs": [],
   "source": []
  }
 ],
 "metadata": {
  "kernelspec": {
   "display_name": "Python 3 (ipykernel)",
   "language": "python",
   "name": "python3"
  },
  "language_info": {
   "codemirror_mode": {
    "name": "ipython",
    "version": 3
   },
   "file_extension": ".py",
   "mimetype": "text/x-python",
   "name": "python",
   "nbconvert_exporter": "python",
   "pygments_lexer": "ipython3",
   "version": "3.12.4"
  }
 },
 "nbformat": 4,
 "nbformat_minor": 5
}
